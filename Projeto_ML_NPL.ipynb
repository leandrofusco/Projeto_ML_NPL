{
 "cells": [
  {
   "cell_type": "markdown",
   "metadata": {},
   "source": [
    "# Projeto ML NPL \n",
    "\n",
    "<h3>- Introdução</h3>\n",
    "<h3>- Preparando o ambiente</h3>\n",
    "<h3>- Explorando o problema</h3>\n",
    "<h3>- Classificadores</h3>\n",
    "<h3>- Os tipos de classificação</h3>"
   ]
  },
  {
   "cell_type": "code",
   "execution_count": 4,
   "metadata": {
    "colab": {
     "base_uri": "https://localhost:8080/",
     "height": 359
    },
    "id": "Q96J17TwzgwH",
    "outputId": "01e43faa-32ac-44b9-c95f-0dbad7428a83"
   },
   "outputs": [
    {
     "data": {
      "text/html": [
       "<div>\n",
       "<style scoped>\n",
       "    .dataframe tbody tr th:only-of-type {\n",
       "        vertical-align: middle;\n",
       "    }\n",
       "\n",
       "    .dataframe tbody tr th {\n",
       "        vertical-align: top;\n",
       "    }\n",
       "\n",
       "    .dataframe thead th {\n",
       "        text-align: right;\n",
       "    }\n",
       "</style>\n",
       "<table border=\"1\" class=\"dataframe\">\n",
       "  <thead>\n",
       "    <tr style=\"text-align: right;\">\n",
       "      <th></th>\n",
       "      <th>Perguntas</th>\n",
       "      <th>Tags</th>\n",
       "    </tr>\n",
       "  </thead>\n",
       "  <tbody>\n",
       "    <tr>\n",
       "      <th>3001</th>\n",
       "      <td>JS  CODE   HTML  CODE   O que está acontecendo...</td>\n",
       "      <td>jquery html</td>\n",
       "    </tr>\n",
       "    <tr>\n",
       "      <th>2211</th>\n",
       "      <td>Eu preciso que uma div seja fixa na tela, ou s...</td>\n",
       "      <td>jquery html</td>\n",
       "    </tr>\n",
       "    <tr>\n",
       "      <th>1079</th>\n",
       "      <td>Em termos de processos, qual a diferença do mu...</td>\n",
       "      <td>node.js</td>\n",
       "    </tr>\n",
       "    <tr>\n",
       "      <th>3432</th>\n",
       "      <td>Tenho uma aplicação desenvolvida com React + R...</td>\n",
       "      <td>node.js</td>\n",
       "    </tr>\n",
       "    <tr>\n",
       "      <th>2732</th>\n",
       "      <td>Olá, como faço para configura o timepicker par...</td>\n",
       "      <td>jquery</td>\n",
       "    </tr>\n",
       "    <tr>\n",
       "      <th>1670</th>\n",
       "      <td>O que eu quero fazer com o CODE , é o mesmo qu...</td>\n",
       "      <td>html</td>\n",
       "    </tr>\n",
       "    <tr>\n",
       "      <th>2953</th>\n",
       "      <td>Considerem o seguinte código:  CODE   Como eu ...</td>\n",
       "      <td>jquery html</td>\n",
       "    </tr>\n",
       "    <tr>\n",
       "      <th>1217</th>\n",
       "      <td>Tem como fazer com que todas vez que clico na ...</td>\n",
       "      <td>jquery html</td>\n",
       "    </tr>\n",
       "    <tr>\n",
       "      <th>2777</th>\n",
       "      <td>Estou tentando fazer um controller genérico qu...</td>\n",
       "      <td>node.js</td>\n",
       "    </tr>\n",
       "    <tr>\n",
       "      <th>4876</th>\n",
       "      <td>Desenvolvendo um sistema simples, me deparei c...</td>\n",
       "      <td>angular</td>\n",
       "    </tr>\n",
       "  </tbody>\n",
       "</table>\n",
       "</div>"
      ],
      "text/plain": [
       "                                              Perguntas          Tags\n",
       "3001  JS  CODE   HTML  CODE   O que está acontecendo...  jquery html \n",
       "2211  Eu preciso que uma div seja fixa na tela, ou s...  jquery html \n",
       "1079  Em termos de processos, qual a diferença do mu...       node.js\n",
       "3432  Tenho uma aplicação desenvolvida com React + R...       node.js\n",
       "2732  Olá, como faço para configura o timepicker par...        jquery\n",
       "1670  O que eu quero fazer com o CODE , é o mesmo qu...          html\n",
       "2953  Considerem o seguinte código:  CODE   Como eu ...   jquery html\n",
       "1217  Tem como fazer com que todas vez que clico na ...   jquery html\n",
       "2777  Estou tentando fazer um controller genérico qu...       node.js\n",
       "4876  Desenvolvendo um sistema simples, me deparei c...       angular"
      ]
     },
     "execution_count": 4,
     "metadata": {},
     "output_type": "execute_result"
    }
   ],
   "source": [
    "# Carregando e visualizando as 10 primeiras linhas\n",
    "import pandas as pd\n",
    "\n",
    "perguntas = pd.read_csv(\"dataset//stackoverflow_perguntas.csv\")\n",
    "perguntas.sample(10)"
   ]
  },
  {
   "cell_type": "code",
   "execution_count": 5,
   "metadata": {
    "colab": {
     "base_uri": "https://localhost:8080/"
    },
    "id": "63jQ1Adf0JRC",
    "outputId": "8ead03c3-1b7c-4b9a-9232-aa45baf31307"
   },
   "outputs": [
    {
     "name": "stdout",
     "output_type": "stream",
     "text": [
      "5408\n"
     ]
    }
   ],
   "source": [
    "print(len(perguntas))"
   ]
  },
  {
   "cell_type": "code",
   "execution_count": 6,
   "metadata": {
    "colab": {
     "base_uri": "https://localhost:8080/"
    },
    "id": "ixuDmW6H9mTv",
    "outputId": "d7266588-f82d-44e8-d34b-487843433c3e"
   },
   "outputs": [
    {
     "data": {
      "text/plain": [
       "array(['node.js', 'jquery', 'html', 'html angular ', 'html ', 'angular',\n",
       "       'angular ', 'jquery html  ', 'jquery ', 'jquery html',\n",
       "       'jquery html ', 'html angular', 'angular node.js ', 'html  ',\n",
       "       'jquery html angular', 'node.js ', 'html jquery', 'html jquery ',\n",
       "       'jquery angular  ', 'html node.js', 'jquery  ', 'angular node.js',\n",
       "       'jquery angular', 'html node.js ', 'jquery node.js ', 'angular  ',\n",
       "       'jquery angular ', 'jquery html angular ', 'node.js html ',\n",
       "       ' node.js', 'node.js html', 'html angular  ', 'jquery node.js',\n",
       "       'angular html', 'html angular  node.js', 'jquery html node.js',\n",
       "       'html angular node.js'], dtype=object)"
      ]
     },
     "execution_count": 6,
     "metadata": {},
     "output_type": "execute_result"
    }
   ],
   "source": [
    "perguntas.Tags.unique()"
   ]
  },
  {
   "cell_type": "code",
   "execution_count": 7,
   "metadata": {
    "colab": {
     "base_uri": "https://localhost:8080/"
    },
    "id": "w3XxtKpAE_v-",
    "outputId": "dc4ac72b-ce51-4499-b7f9-342c9acf4eac"
   },
   "outputs": [
    {
     "name": "stdout",
     "output_type": "stream",
     "text": [
      "['node.js', 'jquery', 'html', 'angular']\n"
     ]
    }
   ],
   "source": [
    "# Crando lista de tags unicas\n",
    "lista_de_tags = list()\n",
    "for tags in perguntas.Tags.unique():\n",
    "    for tag in tags.split():\n",
    "        if tag not in lista_de_tags:\n",
    "            lista_de_tags.append(tag)\n",
    "        \n",
    "print(lista_de_tags)"
   ]
  },
  {
   "cell_type": "code",
   "execution_count": 7,
   "metadata": {
    "colab": {
     "base_uri": "https://localhost:8080/",
     "height": 419
    },
    "id": "l_FtnocJeVIv",
    "outputId": "72d1713b-935c-4a2d-f854-a9eceb0a1b59"
   },
   "outputs": [
    {
     "data": {
      "text/html": [
       "<div>\n",
       "<style scoped>\n",
       "    .dataframe tbody tr th:only-of-type {\n",
       "        vertical-align: middle;\n",
       "    }\n",
       "\n",
       "    .dataframe tbody tr th {\n",
       "        vertical-align: top;\n",
       "    }\n",
       "\n",
       "    .dataframe thead th {\n",
       "        text-align: right;\n",
       "    }\n",
       "</style>\n",
       "<table border=\"1\" class=\"dataframe\">\n",
       "  <thead>\n",
       "    <tr style=\"text-align: right;\">\n",
       "      <th></th>\n",
       "      <th>Perguntas</th>\n",
       "      <th>Tags</th>\n",
       "      <th>node.js</th>\n",
       "    </tr>\n",
       "  </thead>\n",
       "  <tbody>\n",
       "    <tr>\n",
       "      <th>0</th>\n",
       "      <td>Possuo um projeto Node.js porém preciso criar ...</td>\n",
       "      <td>node.js</td>\n",
       "      <td>1</td>\n",
       "    </tr>\n",
       "    <tr>\n",
       "      <th>1</th>\n",
       "      <td>Gostaria de fazer testes unitários no Node.js,...</td>\n",
       "      <td>node.js</td>\n",
       "      <td>1</td>\n",
       "    </tr>\n",
       "    <tr>\n",
       "      <th>2</th>\n",
       "      <td>Como inverter a ordem com que o jQuery itera u...</td>\n",
       "      <td>jquery</td>\n",
       "      <td>0</td>\n",
       "    </tr>\n",
       "    <tr>\n",
       "      <th>3</th>\n",
       "      <td>Eu tenho uma página onde pretendo utilizar um ...</td>\n",
       "      <td>html</td>\n",
       "      <td>0</td>\n",
       "    </tr>\n",
       "    <tr>\n",
       "      <th>4</th>\n",
       "      <td>Como exibir os dados retornados do FireStore e...</td>\n",
       "      <td>html angular</td>\n",
       "      <td>0</td>\n",
       "    </tr>\n",
       "    <tr>\n",
       "      <th>...</th>\n",
       "      <td>...</td>\n",
       "      <td>...</td>\n",
       "      <td>...</td>\n",
       "    </tr>\n",
       "    <tr>\n",
       "      <th>5403</th>\n",
       "      <td>Queria saber como pegar o total de cores de um...</td>\n",
       "      <td>jquery html</td>\n",
       "      <td>0</td>\n",
       "    </tr>\n",
       "    <tr>\n",
       "      <th>5404</th>\n",
       "      <td>Boa noite, estou usando phonegap para fazer um...</td>\n",
       "      <td>html</td>\n",
       "      <td>0</td>\n",
       "    </tr>\n",
       "    <tr>\n",
       "      <th>5405</th>\n",
       "      <td>Estou construindo um mini fórum, e nele, os us...</td>\n",
       "      <td>jquery html</td>\n",
       "      <td>0</td>\n",
       "    </tr>\n",
       "    <tr>\n",
       "      <th>5406</th>\n",
       "      <td>Boa tarde,  Estou para desenvolver um site na ...</td>\n",
       "      <td>html</td>\n",
       "      <td>0</td>\n",
       "    </tr>\n",
       "    <tr>\n",
       "      <th>5407</th>\n",
       "      <td>Estou fazendo um hotsite, ele é one page, e é ...</td>\n",
       "      <td>jquery html</td>\n",
       "      <td>0</td>\n",
       "    </tr>\n",
       "  </tbody>\n",
       "</table>\n",
       "<p>5408 rows × 3 columns</p>\n",
       "</div>"
      ],
      "text/plain": [
       "                                              Perguntas           Tags  node.js\n",
       "0     Possuo um projeto Node.js porém preciso criar ...        node.js        1\n",
       "1     Gostaria de fazer testes unitários no Node.js,...        node.js        1\n",
       "2     Como inverter a ordem com que o jQuery itera u...         jquery        0\n",
       "3     Eu tenho uma página onde pretendo utilizar um ...           html        0\n",
       "4     Como exibir os dados retornados do FireStore e...  html angular         0\n",
       "...                                                 ...            ...      ...\n",
       "5403  Queria saber como pegar o total de cores de um...   jquery html         0\n",
       "5404  Boa noite, estou usando phonegap para fazer um...          html         0\n",
       "5405  Estou construindo um mini fórum, e nele, os us...    jquery html        0\n",
       "5406  Boa tarde,  Estou para desenvolver um site na ...           html        0\n",
       "5407  Estou fazendo um hotsite, ele é one page, e é ...    jquery html        0\n",
       "\n",
       "[5408 rows x 3 columns]"
      ]
     },
     "execution_count": 7,
     "metadata": {
      "tags": []
     },
     "output_type": "execute_result"
    }
   ],
   "source": [
    "# criação da coluna node.js \n",
    "node_js = list()\n",
    "for linha_tag in perguntas.Tags:\n",
    "    if \"node.js\" in linha_tag:\n",
    "        node_js.append(1)\n",
    "    else:\n",
    "        node_js.append(0)\n",
    "perguntas[\"node.js\"] = node_js\n",
    "perguntas"
   ]
  },
  {
   "cell_type": "code",
   "execution_count": 8,
   "metadata": {
    "colab": {
     "base_uri": "https://localhost:8080/",
     "height": 359
    },
    "id": "Qbdw-od-kvvq",
    "outputId": "b3bd94ef-d51c-455e-dcd5-42059280a7a7"
   },
   "outputs": [
    {
     "data": {
      "text/html": [
       "<div>\n",
       "<style scoped>\n",
       "    .dataframe tbody tr th:only-of-type {\n",
       "        vertical-align: middle;\n",
       "    }\n",
       "\n",
       "    .dataframe tbody tr th {\n",
       "        vertical-align: top;\n",
       "    }\n",
       "\n",
       "    .dataframe thead th {\n",
       "        text-align: right;\n",
       "    }\n",
       "</style>\n",
       "<table border=\"1\" class=\"dataframe\">\n",
       "  <thead>\n",
       "    <tr style=\"text-align: right;\">\n",
       "      <th></th>\n",
       "      <th>Perguntas</th>\n",
       "      <th>Tags</th>\n",
       "      <th>node.js</th>\n",
       "      <th>jquery</th>\n",
       "      <th>html</th>\n",
       "      <th>angular</th>\n",
       "    </tr>\n",
       "  </thead>\n",
       "  <tbody>\n",
       "    <tr>\n",
       "      <th>3096</th>\n",
       "      <td>Tenho uma função que é chamada aqui:  CODE   C...</td>\n",
       "      <td>jquery html</td>\n",
       "      <td>0</td>\n",
       "      <td>1</td>\n",
       "      <td>1</td>\n",
       "      <td>0</td>\n",
       "    </tr>\n",
       "    <tr>\n",
       "      <th>1622</th>\n",
       "      <td>Tenho um servidor nojeJs configurado desta man...</td>\n",
       "      <td>node.js</td>\n",
       "      <td>1</td>\n",
       "      <td>0</td>\n",
       "      <td>0</td>\n",
       "      <td>0</td>\n",
       "    </tr>\n",
       "    <tr>\n",
       "      <th>26</th>\n",
       "      <td>Cada vez mais, eu encontro artigos (em inglês ...</td>\n",
       "      <td>jquery</td>\n",
       "      <td>0</td>\n",
       "      <td>1</td>\n",
       "      <td>0</td>\n",
       "      <td>0</td>\n",
       "    </tr>\n",
       "    <tr>\n",
       "      <th>3207</th>\n",
       "      <td>Cenário teste  Tenho uma página, com CODE  \"da...</td>\n",
       "      <td>jquery</td>\n",
       "      <td>0</td>\n",
       "      <td>1</td>\n",
       "      <td>0</td>\n",
       "      <td>0</td>\n",
       "    </tr>\n",
       "    <tr>\n",
       "      <th>1296</th>\n",
       "      <td>Galera boa tarde.  Como faço uma função em jav...</td>\n",
       "      <td>html</td>\n",
       "      <td>0</td>\n",
       "      <td>0</td>\n",
       "      <td>1</td>\n",
       "      <td>0</td>\n",
       "    </tr>\n",
       "    <tr>\n",
       "      <th>633</th>\n",
       "      <td>Estou desenvolvendo um site em PHP e vou preci...</td>\n",
       "      <td>jquery html</td>\n",
       "      <td>0</td>\n",
       "      <td>1</td>\n",
       "      <td>1</td>\n",
       "      <td>0</td>\n",
       "    </tr>\n",
       "    <tr>\n",
       "      <th>3451</th>\n",
       "      <td>Preciso fazer uma paginação via servidor só qu...</td>\n",
       "      <td>jquery</td>\n",
       "      <td>0</td>\n",
       "      <td>1</td>\n",
       "      <td>0</td>\n",
       "      <td>0</td>\n",
       "    </tr>\n",
       "    <tr>\n",
       "      <th>1961</th>\n",
       "      <td>Tenho diversas tags CODE  com o id parecido, t...</td>\n",
       "      <td>jquery html</td>\n",
       "      <td>0</td>\n",
       "      <td>1</td>\n",
       "      <td>1</td>\n",
       "      <td>0</td>\n",
       "    </tr>\n",
       "    <tr>\n",
       "      <th>1901</th>\n",
       "      <td>to fazendo um forum bem basiquinho e to com um...</td>\n",
       "      <td>html angular</td>\n",
       "      <td>0</td>\n",
       "      <td>0</td>\n",
       "      <td>1</td>\n",
       "      <td>1</td>\n",
       "    </tr>\n",
       "    <tr>\n",
       "      <th>2289</th>\n",
       "      <td>No seguinte player o áudio em execução não é m...</td>\n",
       "      <td>html</td>\n",
       "      <td>0</td>\n",
       "      <td>0</td>\n",
       "      <td>1</td>\n",
       "      <td>0</td>\n",
       "    </tr>\n",
       "  </tbody>\n",
       "</table>\n",
       "</div>"
      ],
      "text/plain": [
       "                                              Perguntas          Tags  node.js  jquery  html  angular\n",
       "3096  Tenho uma função que é chamada aqui:  CODE   C...   jquery html        0       1     1        0\n",
       "1622  Tenho um servidor nojeJs configurado desta man...       node.js        1       0     0        0\n",
       "26    Cada vez mais, eu encontro artigos (em inglês ...        jquery        0       1     0        0\n",
       "3207  Cenário teste  Tenho uma página, com CODE  \"da...        jquery        0       1     0        0\n",
       "1296  Galera boa tarde.  Como faço uma função em jav...          html        0       0     1        0\n",
       "633   Estou desenvolvendo um site em PHP e vou preci...   jquery html        0       1     1        0\n",
       "3451  Preciso fazer uma paginação via servidor só qu...       jquery         0       1     0        0\n",
       "1961  Tenho diversas tags CODE  com o id parecido, t...  jquery html         0       1     1        0\n",
       "1901  to fazendo um forum bem basiquinho e to com um...  html angular        0       0     1        1\n",
       "2289  No seguinte player o áudio em execução não é m...          html        0       0     1        0"
      ]
     },
     "execution_count": 8,
     "metadata": {},
     "output_type": "execute_result"
    }
   ],
   "source": [
    "# automatização da função de criação de uma nova coluna para transformar strings em números \n",
    "def nova_coluna(lista_tags, dataframe, nome_tags):\n",
    "    for tag in lista_tags:\n",
    "        coluna = list()\n",
    "        for linha_tag in dataframe[nome_tags]:\n",
    "            if tag in linha_tag:\n",
    "                coluna.append(1)\n",
    "            else:\n",
    "                coluna.append(0)\n",
    "        dataframe[tag] = coluna\n",
    "nova_coluna(lista_de_tags, perguntas, \"Tags\")\n",
    "perguntas.sample(10)"
   ]
  },
  {
   "cell_type": "code",
   "execution_count": 9,
   "metadata": {
    "id": "VVrQgRWOmcKJ"
   },
   "outputs": [],
   "source": [
    "\n",
    "from sklearn.model_selection import train_test_split\n",
    "\n",
    "perguntas_treino, perguntas_test, tags_treino, tags_teste = train_test_split(\n",
    "    perguntas.Perguntas,\n",
    "    perguntas.Tags\n",
    ")"
   ]
  },
  {
   "cell_type": "code",
   "execution_count": 11,
   "metadata": {
    "colab": {
     "base_uri": "https://localhost:8080/"
    },
    "id": "D559gY9864G9",
    "outputId": "aece4a6f-cd58-4ec3-b683-13d6e57efd82"
   },
   "outputs": [
    {
     "name": "stdout",
     "output_type": "stream",
     "text": [
      "[(1, 5), (2, 4)]\n"
     ]
    }
   ],
   "source": [
    "# Fazendo teste de como criar a uma coluna com todas as tags no caso, com uma lista de tuplas\n",
    "lista_1 = [1,2]\n",
    "lista_2 = [5,4]\n",
    "lista_zip = zip(lista_1, lista_2)\n",
    "print(list(lista_zip))"
   ]
  },
  {
   "cell_type": "code",
   "execution_count": 10,
   "metadata": {
    "colab": {
     "base_uri": "https://localhost:8080/",
     "height": 359
    },
    "id": "UUb4OgID8Gk_",
    "outputId": "e7d5f50d-d8d5-4cd9-f049-657946fb7764"
   },
   "outputs": [
    {
     "data": {
      "text/html": [
       "<div>\n",
       "<style scoped>\n",
       "    .dataframe tbody tr th:only-of-type {\n",
       "        vertical-align: middle;\n",
       "    }\n",
       "\n",
       "    .dataframe tbody tr th {\n",
       "        vertical-align: top;\n",
       "    }\n",
       "\n",
       "    .dataframe thead th {\n",
       "        text-align: right;\n",
       "    }\n",
       "</style>\n",
       "<table border=\"1\" class=\"dataframe\">\n",
       "  <thead>\n",
       "    <tr style=\"text-align: right;\">\n",
       "      <th></th>\n",
       "      <th>Perguntas</th>\n",
       "      <th>Tags</th>\n",
       "      <th>node.js</th>\n",
       "      <th>jquery</th>\n",
       "      <th>html</th>\n",
       "      <th>angular</th>\n",
       "      <th>todas_tags</th>\n",
       "    </tr>\n",
       "  </thead>\n",
       "  <tbody>\n",
       "    <tr>\n",
       "      <th>4405</th>\n",
       "      <td>Olá!  Eu criei um aplicativo em HTML5 + JQuery...</td>\n",
       "      <td>html</td>\n",
       "      <td>0</td>\n",
       "      <td>0</td>\n",
       "      <td>1</td>\n",
       "      <td>0</td>\n",
       "      <td>(0, 0, 1, 0)</td>\n",
       "    </tr>\n",
       "    <tr>\n",
       "      <th>3056</th>\n",
       "      <td>Estou desenvolvendo meu primeiro App usando o ...</td>\n",
       "      <td>jquery html</td>\n",
       "      <td>0</td>\n",
       "      <td>1</td>\n",
       "      <td>1</td>\n",
       "      <td>0</td>\n",
       "      <td>(0, 1, 1, 0)</td>\n",
       "    </tr>\n",
       "    <tr>\n",
       "      <th>3228</th>\n",
       "      <td>Antes de perguntar vou deixa o meu script:  Ht...</td>\n",
       "      <td>jquery</td>\n",
       "      <td>0</td>\n",
       "      <td>1</td>\n",
       "      <td>0</td>\n",
       "      <td>0</td>\n",
       "      <td>(0, 1, 0, 0)</td>\n",
       "    </tr>\n",
       "    <tr>\n",
       "      <th>3688</th>\n",
       "      <td>Estou pegando a var CODE , que recebe o CODE  ...</td>\n",
       "      <td>angular</td>\n",
       "      <td>0</td>\n",
       "      <td>0</td>\n",
       "      <td>0</td>\n",
       "      <td>1</td>\n",
       "      <td>(0, 0, 0, 1)</td>\n",
       "    </tr>\n",
       "    <tr>\n",
       "      <th>2642</th>\n",
       "      <td>Estou estudando JavaScript e gostaria de um su...</td>\n",
       "      <td>jquery</td>\n",
       "      <td>0</td>\n",
       "      <td>1</td>\n",
       "      <td>0</td>\n",
       "      <td>0</td>\n",
       "      <td>(0, 1, 0, 0)</td>\n",
       "    </tr>\n",
       "    <tr>\n",
       "      <th>2226</th>\n",
       "      <td>Olá eu não tenho muita experiência com js e es...</td>\n",
       "      <td>html</td>\n",
       "      <td>0</td>\n",
       "      <td>0</td>\n",
       "      <td>1</td>\n",
       "      <td>0</td>\n",
       "      <td>(0, 0, 1, 0)</td>\n",
       "    </tr>\n",
       "    <tr>\n",
       "      <th>2262</th>\n",
       "      <td>Eu tenho uma função aqui pra fazer uma busca n...</td>\n",
       "      <td>node.js</td>\n",
       "      <td>1</td>\n",
       "      <td>0</td>\n",
       "      <td>0</td>\n",
       "      <td>0</td>\n",
       "      <td>(1, 0, 0, 0)</td>\n",
       "    </tr>\n",
       "    <tr>\n",
       "      <th>3082</th>\n",
       "      <td>Preciso alterar o id de um formulário em HTML ...</td>\n",
       "      <td>jquery</td>\n",
       "      <td>0</td>\n",
       "      <td>1</td>\n",
       "      <td>0</td>\n",
       "      <td>0</td>\n",
       "      <td>(0, 1, 0, 0)</td>\n",
       "    </tr>\n",
       "    <tr>\n",
       "      <th>3805</th>\n",
       "      <td>Estou tentado implementar o Infinite Scroll ao...</td>\n",
       "      <td>angular</td>\n",
       "      <td>0</td>\n",
       "      <td>0</td>\n",
       "      <td>0</td>\n",
       "      <td>1</td>\n",
       "      <td>(0, 0, 0, 1)</td>\n",
       "    </tr>\n",
       "    <tr>\n",
       "      <th>3265</th>\n",
       "      <td>Bom, tenho um código de um chatbox em pop-up, ...</td>\n",
       "      <td>jquery</td>\n",
       "      <td>0</td>\n",
       "      <td>1</td>\n",
       "      <td>0</td>\n",
       "      <td>0</td>\n",
       "      <td>(0, 1, 0, 0)</td>\n",
       "    </tr>\n",
       "  </tbody>\n",
       "</table>\n",
       "</div>"
      ],
      "text/plain": [
       "                                              Perguntas         Tags  node.js  jquery  html  angular    todas_tags\n",
       "4405  Olá!  Eu criei um aplicativo em HTML5 + JQuery...         html        0       0     1        0  (0, 0, 1, 0)\n",
       "3056  Estou desenvolvendo meu primeiro App usando o ...  jquery html        0       1     1        0  (0, 1, 1, 0)\n",
       "3228  Antes de perguntar vou deixa o meu script:  Ht...      jquery         0       1     0        0  (0, 1, 0, 0)\n",
       "3688  Estou pegando a var CODE , que recebe o CODE  ...      angular        0       0     0        1  (0, 0, 0, 1)\n",
       "2642  Estou estudando JavaScript e gostaria de um su...     jquery          0       1     0        0  (0, 1, 0, 0)\n",
       "2226  Olá eu não tenho muita experiência com js e es...         html        0       0     1        0  (0, 0, 1, 0)\n",
       "2262  Eu tenho uma função aqui pra fazer uma busca n...      node.js        1       0     0        0  (1, 0, 0, 0)\n",
       "3082  Preciso alterar o id de um formulário em HTML ...       jquery        0       1     0        0  (0, 1, 0, 0)\n",
       "3805  Estou tentado implementar o Infinite Scroll ao...      angular        0       0     0        1  (0, 0, 0, 1)\n",
       "3265  Bom, tenho um código de um chatbox em pop-up, ...       jquery        0       1     0        0  (0, 1, 0, 0)"
      ]
     },
     "execution_count": 10,
     "metadata": {},
     "output_type": "execute_result"
    }
   ],
   "source": [
    "# Criando uma coluna que junte o resultado das outras em um só, para depois poder usar essa coluna para divir os dados\n",
    "lista_zip_tags = list(zip(perguntas[lista_de_tags[0]],\n",
    "                     perguntas[lista_de_tags[1]],\n",
    "                     perguntas[lista_de_tags[2]],\n",
    "                     perguntas[lista_de_tags[3]]))\n",
    "\n",
    "perguntas[\"todas_tags\"] = lista_zip_tags\n",
    "perguntas.sample(10)"
   ]
  },
  {
   "cell_type": "code",
   "execution_count": 11,
   "metadata": {
    "id": "pWhQ9JVr9wvU"
   },
   "outputs": [],
   "source": [
    "# Carregando o pacote train_test_split para dividir os dados de treino e teste\n",
    "from sklearn.model_selection import train_test_split\n",
    "\n",
    "perguntas_treino, perguntas_test, tags_treino, tags_teste = train_test_split(\n",
    "    perguntas.Perguntas,\n",
    "    perguntas.todas_tags,\n",
    "    test_size = 0.2,\n",
    "    random_state = 123\n",
    ")"
   ]
  },
  {
   "cell_type": "code",
   "execution_count": 12,
   "metadata": {
    "colab": {
     "base_uri": "https://localhost:8080/"
    },
    "id": "Ybd92zs5DOAG",
    "outputId": "59f925e6-5090-467f-a2c7-48a9c710a1bb"
   },
   "outputs": [
    {
     "data": {
      "text/plain": [
       "1577       array1 = [1,2,3];   array2 = [\"um\",\"dois\",\"...\n",
       "1927    Não sei se fui claro no título, mas quem é da ...\n",
       "3409    Alguém sabe me dizer qual a melhor forma de re...\n",
       "4606    Estou com problemas ao tentar validar campos d...\n",
       "5237    Preciso copiar um valor de dentro de um CODE  ...\n",
       "                              ...                        \n",
       "5218    Tenho um sisteminha, para mudar o layout da pá...\n",
       "4060    Como fazer alto scoll ao carregar a página?  E...\n",
       "1346    Explicação:  Tenho uma CODE  pai que contém du...\n",
       "3454    Estou querendo fazer um sistema onde eu iria t...\n",
       "3582    Galera eu to com um problemão, ja pesquisei ba...\n",
       "Name: Perguntas, Length: 4326, dtype: object"
      ]
     },
     "execution_count": 12,
     "metadata": {},
     "output_type": "execute_result"
    }
   ],
   "source": [
    "perguntas_treino"
   ]
  },
  {
   "cell_type": "code",
   "execution_count": 13,
   "metadata": {
    "colab": {
     "base_uri": "https://localhost:8080/"
    },
    "id": "92oPYJG1vRj8",
    "outputId": "d75fb0b5-8d9f-4139-a209-7fd0c4a3454c"
   },
   "outputs": [
    {
     "data": {
      "text/plain": [
       "TfidfVectorizer(max_df=0.85, max_features=5000)"
      ]
     },
     "execution_count": 13,
     "metadata": {},
     "output_type": "execute_result"
    }
   ],
   "source": [
    "# Vamos utilizar a vetorização para pegar no máximo 5000 posições e desconsiderar palavras que sejam comum em 85% dos dados\n",
    "from sklearn.feature_extraction.text import TfidfVectorizer\n",
    "\n",
    "vetorizar = TfidfVectorizer(max_features=5000, max_df=0.85)\n",
    "vetorizar"
   ]
  },
  {
   "cell_type": "code",
   "execution_count": 14,
   "metadata": {
    "colab": {
     "base_uri": "https://localhost:8080/"
    },
    "id": "vKuHvRZdxedg",
    "outputId": "50e10104-2d76-47a8-bf9f-7b1403582ddd"
   },
   "outputs": [
    {
     "name": "stdout",
     "output_type": "stream",
     "text": [
      "(4326, 5000)\n",
      "(1082, 5000)\n"
     ]
    }
   ],
   "source": [
    "# Aplicando a vetorização nos dados de treino e teste e visualizando o shape \n",
    "vetorizar.fit(perguntas.Perguntas)\n",
    "perguntas_treino_tfidf = vetorizar.transform(perguntas_treino)\n",
    "perguntas_test_tfidf = vetorizar.transform(perguntas_test)\n",
    "print(perguntas_treino_tfidf.shape)\n",
    "print(perguntas_test_tfidf.shape)"
   ]
  },
  {
   "cell_type": "code",
   "execution_count": 46,
   "metadata": {
    "colab": {
     "base_uri": "https://localhost:8080/",
     "height": 376
    },
    "id": "OXhEfQeozQ6V",
    "outputId": "2b84ffad-f3c8-429a-dca0-807769e869a2"
   },
   "outputs": [
    {
     "ename": "ValueError",
     "evalue": "ignored",
     "output_type": "error",
     "traceback": [
      "\u001b[0;31m---------------------------------------------------------------------------\u001b[0m",
      "\u001b[0;31mValueError\u001b[0m                                Traceback (most recent call last)",
      "\u001b[0;32m<ipython-input-46-4a2ba4aacb5e>\u001b[0m in \u001b[0;36m<module>\u001b[0;34m()\u001b[0m\n\u001b[1;32m      4\u001b[0m \u001b[0mregressao_logistica\u001b[0m \u001b[0;34m=\u001b[0m \u001b[0mLogisticRegression\u001b[0m\u001b[0;34m(\u001b[0m\u001b[0;34m)\u001b[0m\u001b[0;34m\u001b[0m\u001b[0;34m\u001b[0m\u001b[0m\n\u001b[1;32m      5\u001b[0m \u001b[0mclassificador_onevsrest\u001b[0m \u001b[0;34m=\u001b[0m \u001b[0mOneVsRestClassifier\u001b[0m\u001b[0;34m(\u001b[0m\u001b[0mregressao_logistica\u001b[0m\u001b[0;34m)\u001b[0m\u001b[0;34m\u001b[0m\u001b[0;34m\u001b[0m\u001b[0m\n\u001b[0;32m----> 6\u001b[0;31m \u001b[0mclassificador_onevsrest\u001b[0m\u001b[0;34m.\u001b[0m\u001b[0mfit\u001b[0m\u001b[0;34m(\u001b[0m\u001b[0mperguntas_treino_tfidf\u001b[0m\u001b[0;34m,\u001b[0m \u001b[0mtags_treino\u001b[0m\u001b[0;34m)\u001b[0m\u001b[0;34m\u001b[0m\u001b[0;34m\u001b[0m\u001b[0m\n\u001b[0m",
      "\u001b[0;32m/usr/local/lib/python3.7/dist-packages/sklearn/multiclass.py\u001b[0m in \u001b[0;36mfit\u001b[0;34m(self, X, y)\u001b[0m\n\u001b[1;32m    226\u001b[0m         \u001b[0;31m# overall.\u001b[0m\u001b[0;34m\u001b[0m\u001b[0;34m\u001b[0m\u001b[0;34m\u001b[0m\u001b[0m\n\u001b[1;32m    227\u001b[0m         \u001b[0mself\u001b[0m\u001b[0;34m.\u001b[0m\u001b[0mlabel_binarizer_\u001b[0m \u001b[0;34m=\u001b[0m \u001b[0mLabelBinarizer\u001b[0m\u001b[0;34m(\u001b[0m\u001b[0msparse_output\u001b[0m\u001b[0;34m=\u001b[0m\u001b[0;32mTrue\u001b[0m\u001b[0;34m)\u001b[0m\u001b[0;34m\u001b[0m\u001b[0;34m\u001b[0m\u001b[0m\n\u001b[0;32m--> 228\u001b[0;31m         \u001b[0mY\u001b[0m \u001b[0;34m=\u001b[0m \u001b[0mself\u001b[0m\u001b[0;34m.\u001b[0m\u001b[0mlabel_binarizer_\u001b[0m\u001b[0;34m.\u001b[0m\u001b[0mfit_transform\u001b[0m\u001b[0;34m(\u001b[0m\u001b[0my\u001b[0m\u001b[0;34m)\u001b[0m\u001b[0;34m\u001b[0m\u001b[0;34m\u001b[0m\u001b[0m\n\u001b[0m\u001b[1;32m    229\u001b[0m         \u001b[0mY\u001b[0m \u001b[0;34m=\u001b[0m \u001b[0mY\u001b[0m\u001b[0;34m.\u001b[0m\u001b[0mtocsc\u001b[0m\u001b[0;34m(\u001b[0m\u001b[0;34m)\u001b[0m\u001b[0;34m\u001b[0m\u001b[0;34m\u001b[0m\u001b[0m\n\u001b[1;32m    230\u001b[0m         \u001b[0mself\u001b[0m\u001b[0;34m.\u001b[0m\u001b[0mclasses_\u001b[0m \u001b[0;34m=\u001b[0m \u001b[0mself\u001b[0m\u001b[0;34m.\u001b[0m\u001b[0mlabel_binarizer_\u001b[0m\u001b[0;34m.\u001b[0m\u001b[0mclasses_\u001b[0m\u001b[0;34m\u001b[0m\u001b[0;34m\u001b[0m\u001b[0m\n",
      "\u001b[0;32m/usr/local/lib/python3.7/dist-packages/sklearn/preprocessing/_label.py\u001b[0m in \u001b[0;36mfit_transform\u001b[0;34m(self, y)\u001b[0m\n\u001b[1;32m    453\u001b[0m             \u001b[0mShape\u001b[0m \u001b[0mwill\u001b[0m \u001b[0mbe\u001b[0m \u001b[0;34m[\u001b[0m\u001b[0mn_samples\u001b[0m\u001b[0;34m,\u001b[0m \u001b[0;36m1\u001b[0m\u001b[0;34m]\u001b[0m \u001b[0;32mfor\u001b[0m \u001b[0mbinary\u001b[0m \u001b[0mproblems\u001b[0m\u001b[0;34m.\u001b[0m\u001b[0;34m\u001b[0m\u001b[0;34m\u001b[0m\u001b[0m\n\u001b[1;32m    454\u001b[0m         \"\"\"\n\u001b[0;32m--> 455\u001b[0;31m         \u001b[0;32mreturn\u001b[0m \u001b[0mself\u001b[0m\u001b[0;34m.\u001b[0m\u001b[0mfit\u001b[0m\u001b[0;34m(\u001b[0m\u001b[0my\u001b[0m\u001b[0;34m)\u001b[0m\u001b[0;34m.\u001b[0m\u001b[0mtransform\u001b[0m\u001b[0;34m(\u001b[0m\u001b[0my\u001b[0m\u001b[0;34m)\u001b[0m\u001b[0;34m\u001b[0m\u001b[0;34m\u001b[0m\u001b[0m\n\u001b[0m\u001b[1;32m    456\u001b[0m \u001b[0;34m\u001b[0m\u001b[0m\n\u001b[1;32m    457\u001b[0m     \u001b[0;32mdef\u001b[0m \u001b[0mtransform\u001b[0m\u001b[0;34m(\u001b[0m\u001b[0mself\u001b[0m\u001b[0;34m,\u001b[0m \u001b[0my\u001b[0m\u001b[0;34m)\u001b[0m\u001b[0;34m:\u001b[0m\u001b[0;34m\u001b[0m\u001b[0;34m\u001b[0m\u001b[0m\n",
      "\u001b[0;32m/usr/local/lib/python3.7/dist-packages/sklearn/preprocessing/_label.py\u001b[0m in \u001b[0;36mfit\u001b[0;34m(self, y)\u001b[0m\n\u001b[1;32m    422\u001b[0m         \u001b[0mself\u001b[0m \u001b[0;34m:\u001b[0m \u001b[0mreturns\u001b[0m \u001b[0man\u001b[0m \u001b[0minstance\u001b[0m \u001b[0mof\u001b[0m \u001b[0mself\u001b[0m\u001b[0;34m.\u001b[0m\u001b[0;34m\u001b[0m\u001b[0;34m\u001b[0m\u001b[0m\n\u001b[1;32m    423\u001b[0m         \"\"\"\n\u001b[0;32m--> 424\u001b[0;31m         \u001b[0mself\u001b[0m\u001b[0;34m.\u001b[0m\u001b[0my_type_\u001b[0m \u001b[0;34m=\u001b[0m \u001b[0mtype_of_target\u001b[0m\u001b[0;34m(\u001b[0m\u001b[0my\u001b[0m\u001b[0;34m)\u001b[0m\u001b[0;34m\u001b[0m\u001b[0;34m\u001b[0m\u001b[0m\n\u001b[0m\u001b[1;32m    425\u001b[0m         \u001b[0;32mif\u001b[0m \u001b[0;34m'multioutput'\u001b[0m \u001b[0;32min\u001b[0m \u001b[0mself\u001b[0m\u001b[0;34m.\u001b[0m\u001b[0my_type_\u001b[0m\u001b[0;34m:\u001b[0m\u001b[0;34m\u001b[0m\u001b[0;34m\u001b[0m\u001b[0m\n\u001b[1;32m    426\u001b[0m             raise ValueError(\"Multioutput target data is not supported with \"\n",
      "\u001b[0;32m/usr/local/lib/python3.7/dist-packages/sklearn/utils/multiclass.py\u001b[0m in \u001b[0;36mtype_of_target\u001b[0;34m(y)\u001b[0m\n\u001b[1;32m    258\u001b[0m         if (not hasattr(y[0], '__array__') and isinstance(y[0], Sequence)\n\u001b[1;32m    259\u001b[0m                 and not isinstance(y[0], str)):\n\u001b[0;32m--> 260\u001b[0;31m             raise ValueError('You appear to be using a legacy multi-label data'\n\u001b[0m\u001b[1;32m    261\u001b[0m                              \u001b[0;34m' representation. Sequence of sequences are no'\u001b[0m\u001b[0;34m\u001b[0m\u001b[0;34m\u001b[0m\u001b[0m\n\u001b[1;32m    262\u001b[0m                              \u001b[0;34m' longer supported; use a binary array or sparse'\u001b[0m\u001b[0;34m\u001b[0m\u001b[0;34m\u001b[0m\u001b[0m\n",
      "\u001b[0;31mValueError\u001b[0m: You appear to be using a legacy multi-label data representation. Sequence of sequences are no longer supported; use a binary array or sparse matrix instead - the MultiLabelBinarizer transformer can convert to this format."
     ]
    }
   ],
   "source": [
    "# Carregando \n",
    "from sklearn.multiclass import OneVsRestClassifier\n",
    "from sklearn.linear_model import LogisticRegression\n",
    "\n",
    "regressao_logistica = LogisticRegression()\n",
    "classificador_onevsrest = OneVsRestClassifier(regressao_logistica)\n",
    "classificador_onevsrest.fit(perguntas_treino_tfidf, tags_treino)"
   ]
  },
  {
   "cell_type": "code",
   "execution_count": 18,
   "metadata": {},
   "outputs": [
    {
     "data": {
      "text/plain": [
       "(pandas.core.series.Series, pandas.core.series.Series)"
      ]
     },
     "execution_count": 18,
     "metadata": {},
     "output_type": "execute_result"
    }
   ],
   "source": [
    "# Problema no formato do tags_treino\n",
    "type(tags_treino),  type(tags_teste)"
   ]
  },
  {
   "cell_type": "code",
   "execution_count": 25,
   "metadata": {
    "id": "KQBmKb1f8zHe"
   },
   "outputs": [],
   "source": [
    "# Devemos transformar para array\n",
    "import numpy as np\n",
    "\n",
    "tags_treino_array = np.asarray(list(tags_treino))\n",
    "tags_teste_array = np.asarray(list(tags_teste))"
   ]
  },
  {
   "cell_type": "code",
   "execution_count": 20,
   "metadata": {
    "colab": {
     "base_uri": "https://localhost:8080/"
    },
    "id": "6uLrAsrh-V5E",
    "outputId": "738f4cb7-9cee-457e-85c2-723cdebafa64"
   },
   "outputs": [
    {
     "data": {
      "text/plain": [
       "array([[0, 1, 0, 0],\n",
       "       [0, 1, 0, 0],\n",
       "       [0, 0, 1, 0],\n",
       "       ...,\n",
       "       [0, 1, 1, 0],\n",
       "       [0, 0, 1, 0],\n",
       "       [0, 1, 1, 0]])"
      ]
     },
     "execution_count": 20,
     "metadata": {},
     "output_type": "execute_result"
    }
   ],
   "source": [
    "tags_treino_array"
   ]
  },
  {
   "cell_type": "code",
   "execution_count": 21,
   "metadata": {
    "colab": {
     "base_uri": "https://localhost:8080/"
    },
    "id": "ho425yDn_cBv",
    "outputId": "407b6f43-ee29-4565-beee-80d997a457b0"
   },
   "outputs": [
    {
     "data": {
      "text/plain": [
       "pandas.core.series.Series"
      ]
     },
     "execution_count": 21,
     "metadata": {},
     "output_type": "execute_result"
    }
   ],
   "source": [
    "type(tags_treino)"
   ]
  },
  {
   "cell_type": "code",
   "execution_count": 23,
   "metadata": {
    "colab": {
     "base_uri": "https://localhost:8080/",
     "height": 376
    },
    "id": "a_bTxAsDCtke",
    "outputId": "f9c1235a-2aae-4164-b175-0d848eb653d8"
   },
   "outputs": [
    {
     "data": {
      "text/plain": [
       "OneVsRestClassifier(estimator=LogisticRegression())"
      ]
     },
     "execution_count": 23,
     "metadata": {},
     "output_type": "execute_result"
    }
   ],
   "source": [
    "from sklearn.multiclass import OneVsRestClassifier\n",
    "from sklearn.linear_model import LogisticRegression\n",
    "\n",
    "regressao_logistica = LogisticRegression()\n",
    "classificador_onevsrest = OneVsRestClassifier(regressao_logistica)\n",
    "classificador_onevsrest.fit(perguntas_treino_tfidf, tags_treino_array)"
   ]
  },
  {
   "cell_type": "code",
   "execution_count": 26,
   "metadata": {
    "colab": {
     "base_uri": "https://localhost:8080/"
    },
    "id": "FGJkjr2TL9uI",
    "outputId": "627a8443-4203-4e28-c95b-e29938dbf320"
   },
   "outputs": [
    {
     "name": "stdout",
     "output_type": "stream",
     "text": [
      "Resultado  41.68%\n"
     ]
    }
   ],
   "source": [
    "from sklearn.multiclass import OneVsRestClassifier\n",
    "from sklearn.linear_model import LogisticRegression\n",
    "\n",
    "regressao_logistica = LogisticRegression(solver = 'lbfgs')\n",
    "classificador_onevsrest = OneVsRestClassifier(regressao_logistica)\n",
    "classificador_onevsrest.fit(perguntas_treino_tfidf, tags_treino_array)\n",
    "resultado_onevsrest = classificador_onevsrest.score(perguntas_test_tfidf, tags_teste_array)\n",
    "print(\"Resultado {0: .2f}%\".format(resultado_onevsrest*100))"
   ]
  },
  {
   "cell_type": "code",
   "execution_count": 27,
   "metadata": {
    "colab": {
     "base_uri": "https://localhost:8080/"
    },
    "id": "Q_yJqObXOAPI",
    "outputId": "9dbc1e01-34f8-4414-e682-29c72ca15e4c"
   },
   "outputs": [
    {
     "data": {
      "text/plain": [
       "array([(1, 0, 0, 0), (0, 1, 0, 0), (0, 0, 1, 0), (0, 0, 1, 1),\n",
       "       (0, 0, 0, 1), (0, 1, 1, 0), (1, 0, 0, 1), (0, 1, 1, 1),\n",
       "       (0, 1, 0, 1), (1, 0, 1, 0), (1, 1, 0, 0), (1, 0, 1, 1),\n",
       "       (1, 1, 1, 0)], dtype=object)"
      ]
     },
     "execution_count": 27,
     "metadata": {},
     "output_type": "execute_result"
    }
   ],
   "source": [
    "perguntas.todas_tags.unique()"
   ]
  },
  {
   "cell_type": "code",
   "execution_count": 28,
   "metadata": {
    "colab": {
     "base_uri": "https://localhost:8080/"
    },
    "id": "Ns5ncpYR_4-1",
    "outputId": "a2f2155f-965c-4526-f466-cc918339b857"
   },
   "outputs": [
    {
     "data": {
      "text/plain": [
       "13"
      ]
     },
     "execution_count": 28,
     "metadata": {},
     "output_type": "execute_result"
    }
   ],
   "source": [
    "len(perguntas.todas_tags.unique())"
   ]
  },
  {
   "cell_type": "code",
   "execution_count": 29,
   "metadata": {
    "colab": {
     "base_uri": "https://localhost:8080/"
    },
    "id": "tkIBKw-vAL04",
    "outputId": "1d92acb7-9cbc-4ffb-8037-ecf65d1a19e3"
   },
   "outputs": [
    {
     "data": {
      "text/plain": [
       "0.07692307692307693"
      ]
     },
     "execution_count": 29,
     "metadata": {},
     "output_type": "execute_result"
    }
   ],
   "source": [
    "1/13"
   ]
  },
  {
   "cell_type": "code",
   "execution_count": 30,
   "metadata": {
    "colab": {
     "base_uri": "https://localhost:8080/"
    },
    "id": "riJ5pUNSAPqQ",
    "outputId": "4fa5e401-0f9d-4c32-d661-4e0237d6d41e"
   },
   "outputs": [
    {
     "name": "stdout",
     "output_type": "stream",
     "text": [
      "Hamming Loss  0.19\n"
     ]
    }
   ],
   "source": [
    "from sklearn.metrics import hamming_loss\n",
    "\n",
    "previsao_onevsrest = classificador_onevsrest.predict(perguntas_test_tfidf)\n",
    "hamming_loss_onevsrest = hamming_loss(tags_teste_array, previsao_onevsrest)\n",
    "print(\"Hamming Loss {0: .2f}\".format(hamming_loss_onevsrest))"
   ]
  },
  {
   "cell_type": "code",
   "execution_count": 31,
   "metadata": {
    "colab": {
     "base_uri": "https://localhost:8080/",
     "height": 173
    },
    "id": "bg7zhEQEBh_F",
    "outputId": "ec7bdc83-da27-467a-92bc-1842c6ce4025"
   },
   "outputs": [
    {
     "data": {
      "text/html": [
       "<div>\n",
       "<style scoped>\n",
       "    .dataframe tbody tr th:only-of-type {\n",
       "        vertical-align: middle;\n",
       "    }\n",
       "\n",
       "    .dataframe tbody tr th {\n",
       "        vertical-align: top;\n",
       "    }\n",
       "\n",
       "    .dataframe thead th {\n",
       "        text-align: right;\n",
       "    }\n",
       "</style>\n",
       "<table border=\"1\" class=\"dataframe\">\n",
       "  <thead>\n",
       "    <tr style=\"text-align: right;\">\n",
       "      <th></th>\n",
       "      <th>node.js</th>\n",
       "      <th>jquery</th>\n",
       "      <th>html</th>\n",
       "      <th>angular</th>\n",
       "    </tr>\n",
       "  </thead>\n",
       "  <tbody>\n",
       "    <tr>\n",
       "      <th>node.js</th>\n",
       "      <td>1.000000</td>\n",
       "      <td>-0.321485</td>\n",
       "      <td>-0.273523</td>\n",
       "      <td>-0.101787</td>\n",
       "    </tr>\n",
       "    <tr>\n",
       "      <th>jquery</th>\n",
       "      <td>-0.321485</td>\n",
       "      <td>1.000000</td>\n",
       "      <td>-0.253977</td>\n",
       "      <td>-0.366269</td>\n",
       "    </tr>\n",
       "    <tr>\n",
       "      <th>html</th>\n",
       "      <td>-0.273523</td>\n",
       "      <td>-0.253977</td>\n",
       "      <td>1.000000</td>\n",
       "      <td>-0.286706</td>\n",
       "    </tr>\n",
       "    <tr>\n",
       "      <th>angular</th>\n",
       "      <td>-0.101787</td>\n",
       "      <td>-0.366269</td>\n",
       "      <td>-0.286706</td>\n",
       "      <td>1.000000</td>\n",
       "    </tr>\n",
       "  </tbody>\n",
       "</table>\n",
       "</div>"
      ],
      "text/plain": [
       "          node.js    jquery      html   angular\n",
       "node.js  1.000000 -0.321485 -0.273523 -0.101787\n",
       "jquery  -0.321485  1.000000 -0.253977 -0.366269\n",
       "html    -0.273523 -0.253977  1.000000 -0.286706\n",
       "angular -0.101787 -0.366269 -0.286706  1.000000"
      ]
     },
     "execution_count": 31,
     "metadata": {},
     "output_type": "execute_result"
    }
   ],
   "source": [
    "perguntas.corr()"
   ]
  },
  {
   "cell_type": "code",
   "execution_count": 35,
   "metadata": {
    "colab": {
     "base_uri": "https://localhost:8080/"
    },
    "id": "thZN3Y24M55D",
    "outputId": "71479989-b413-4ff0-c128-28c010b8aaf8"
   },
   "outputs": [],
   "source": [
    "# Caso não tenha o scikit-multiflow instalado é só descomentar a linha abaixo ou executar no prompt de comando\n",
    "# !conda install -c conda-forge scikit-multiflow"
   ]
  },
  {
   "cell_type": "code",
   "execution_count": 33,
   "metadata": {
    "id": "wNfkUYWLOI5t"
   },
   "outputs": [],
   "source": [
    "from skmultilearn.problem_transform import ClassifierChain"
   ]
  },
  {
   "cell_type": "code",
   "execution_count": 34,
   "metadata": {
    "colab": {
     "base_uri": "https://localhost:8080/"
    },
    "id": "Tha49edmOiqx",
    "outputId": "76395829-360d-447d-db6c-f6a50f7803ce"
   },
   "outputs": [
    {
     "name": "stdout",
     "output_type": "stream",
     "text": [
      "Hamming Loss  0.21\n",
      "Resultado  49.82%\n"
     ]
    }
   ],
   "source": [
    "classificador_cadeia = ClassifierChain(regressao_logistica)\n",
    "classificador_cadeia.fit(perguntas_treino_tfidf, tags_treino_array)\n",
    "resultado_cadeia = classificador_cadeia.score(perguntas_test_tfidf, tags_teste_array)\n",
    "\n",
    "\n",
    "previsao_cadeia = classificador_cadeia.predict(perguntas_test_tfidf)\n",
    "hamming_loss_cadeia = hamming_loss(tags_teste_array, previsao_cadeia)\n",
    "print(\"Hamming Loss {0: .2f}\".format(hamming_loss_cadeia))\n",
    "print(\"Resultado {0: .2f}%\".format(resultado_cadeia*100))"
   ]
  },
  {
   "cell_type": "code",
   "execution_count": 36,
   "metadata": {
    "id": "kxVwxm_qVbRh"
   },
   "outputs": [],
   "source": [
    "from skmultilearn.problem_transform import BinaryRelevance"
   ]
  },
  {
   "cell_type": "code",
   "execution_count": 37,
   "metadata": {
    "colab": {
     "base_uri": "https://localhost:8080/"
    },
    "id": "NNGQ6NCuWk1S",
    "outputId": "7a631623-a3ea-4b9e-db97-8b3e8285592f"
   },
   "outputs": [
    {
     "name": "stdout",
     "output_type": "stream",
     "text": [
      "Hamming Loss  0.19\n",
      "Resultado  41.68%\n"
     ]
    }
   ],
   "source": [
    "classificador_br = BinaryRelevance(regressao_logistica)\n",
    "classificador_br.fit(perguntas_treino_tfidf, tags_treino_array)\n",
    "resultado_br = classificador_br.score(perguntas_test_tfidf, tags_teste_array)\n",
    "\n",
    "\n",
    "previsao_br = classificador_br.predict(perguntas_test_tfidf)\n",
    "hamming_loss_br = hamming_loss(tags_teste_array, previsao_br)\n",
    "print(\"Hamming Loss {0: .2f}\".format(hamming_loss_br))\n",
    "print(\"Resultado {0: .2f}%\".format(resultado_br*100))"
   ]
  },
  {
   "cell_type": "code",
   "execution_count": 38,
   "metadata": {
    "id": "hkQd6zGhXT6x"
   },
   "outputs": [],
   "source": [
    "from skmultilearn.adapt import MLkNN "
   ]
  },
  {
   "cell_type": "code",
   "execution_count": 39,
   "metadata": {
    "colab": {
     "base_uri": "https://localhost:8080/"
    },
    "id": "gV9DTKOyZuKq",
    "outputId": "1752315b-4770-4b22-9bba-79a82e230699"
   },
   "outputs": [
    {
     "name": "stderr",
     "output_type": "stream",
     "text": [
      "c:\\python39\\lib\\site-packages\\sklearn\\utils\\validation.py:70: FutureWarning: Pass n_neighbors=10 as keyword args. From version 1.0 (renaming of 0.25) passing these as positional arguments will result in an error\n",
      "  warnings.warn(f\"Pass {args_msg} as keyword args. From version \"\n"
     ]
    },
    {
     "name": "stdout",
     "output_type": "stream",
     "text": [
      "Hamming Loss  0.25\n",
      "Resultado  32.53%\n"
     ]
    }
   ],
   "source": [
    "classificador_mlknn = MLkNN()\n",
    "classificador_mlknn.fit(perguntas_treino_tfidf, tags_treino_array)\n",
    "resultado_mlknn = classificador_mlknn.score(perguntas_test_tfidf, tags_teste_array)\n",
    "\n",
    "\n",
    "previsao_mlknn = classificador_mlknn.predict(perguntas_test_tfidf)\n",
    "hamming_loss_mlknn = hamming_loss(tags_teste_array, previsao_mlknn)\n",
    "print(\"Hamming Loss {0: .2f}\".format(hamming_loss_mlknn))\n",
    "print(\"Resultado {0: .2f}%\".format(resultado_mlknn*100))"
   ]
  },
  {
   "cell_type": "code",
   "execution_count": 40,
   "metadata": {
    "colab": {
     "base_uri": "https://localhost:8080/",
     "height": 419
    },
    "id": "qFL0dWnWloMt",
    "outputId": "a4daf465-1a64-4de6-f715-ed5dcc59c61a"
   },
   "outputs": [
    {
     "data": {
      "text/html": [
       "<div>\n",
       "<style scoped>\n",
       "    .dataframe tbody tr th:only-of-type {\n",
       "        vertical-align: middle;\n",
       "    }\n",
       "\n",
       "    .dataframe tbody tr th {\n",
       "        vertical-align: top;\n",
       "    }\n",
       "\n",
       "    .dataframe thead th {\n",
       "        text-align: right;\n",
       "    }\n",
       "</style>\n",
       "<table border=\"1\" class=\"dataframe\">\n",
       "  <thead>\n",
       "    <tr style=\"text-align: right;\">\n",
       "      <th></th>\n",
       "      <th>perguntas</th>\n",
       "      <th>tags_real</th>\n",
       "      <th>BR</th>\n",
       "      <th>cadeia</th>\n",
       "      <th>mlknn</th>\n",
       "    </tr>\n",
       "  </thead>\n",
       "  <tbody>\n",
       "    <tr>\n",
       "      <th>0</th>\n",
       "      <td>estou com conflito entre o  CODE   e os  CODE ...</td>\n",
       "      <td>(0, 1, 0, 0)</td>\n",
       "      <td>[0, 1, 0, 0]</td>\n",
       "      <td>[0.0, 1.0, 0.0, 0.0]</td>\n",
       "      <td>[0, 0, 0, 0]</td>\n",
       "    </tr>\n",
       "    <tr>\n",
       "      <th>1</th>\n",
       "      <td>Estou fazendo um site que eu sou obrigado a us...</td>\n",
       "      <td>(0, 0, 1, 0)</td>\n",
       "      <td>[0, 0, 1, 0]</td>\n",
       "      <td>[0.0, 0.0, 1.0, 0.0]</td>\n",
       "      <td>[0, 1, 1, 0]</td>\n",
       "    </tr>\n",
       "    <tr>\n",
       "      <th>2</th>\n",
       "      <td>Recentemente fiz um refactor do meu código par...</td>\n",
       "      <td>(1, 0, 0, 0)</td>\n",
       "      <td>[1, 0, 0, 0]</td>\n",
       "      <td>[1.0, 0.0, 0.0, 0.0]</td>\n",
       "      <td>[1, 0, 0, 0]</td>\n",
       "    </tr>\n",
       "    <tr>\n",
       "      <th>3</th>\n",
       "      <td>Eu tenho esse código em CODE  que passo valore...</td>\n",
       "      <td>(0, 1, 1, 0)</td>\n",
       "      <td>[0, 1, 0, 0]</td>\n",
       "      <td>[0.0, 1.0, 0.0, 0.0]</td>\n",
       "      <td>[0, 1, 1, 0]</td>\n",
       "    </tr>\n",
       "    <tr>\n",
       "      <th>4</th>\n",
       "      <td>Olá, em minha função tem o evento CODE  que de...</td>\n",
       "      <td>(0, 1, 1, 0)</td>\n",
       "      <td>[0, 1, 0, 0]</td>\n",
       "      <td>[0.0, 1.0, 0.0, 0.0]</td>\n",
       "      <td>[0, 1, 1, 0]</td>\n",
       "    </tr>\n",
       "    <tr>\n",
       "      <th>...</th>\n",
       "      <td>...</td>\n",
       "      <td>...</td>\n",
       "      <td>...</td>\n",
       "      <td>...</td>\n",
       "      <td>...</td>\n",
       "    </tr>\n",
       "    <tr>\n",
       "      <th>1077</th>\n",
       "      <td>Estou a desenvolver um website em jQuery. E at...</td>\n",
       "      <td>(0, 1, 0, 0)</td>\n",
       "      <td>[0, 1, 1, 0]</td>\n",
       "      <td>[0.0, 1.0, 1.0, 0.0]</td>\n",
       "      <td>[0, 0, 1, 0]</td>\n",
       "    </tr>\n",
       "    <tr>\n",
       "      <th>1078</th>\n",
       "      <td>Estou usando este plugin - jquery autocomplete...</td>\n",
       "      <td>(0, 1, 0, 0)</td>\n",
       "      <td>[0, 1, 0, 0]</td>\n",
       "      <td>[0.0, 1.0, 0.0, 0.0]</td>\n",
       "      <td>[0, 1, 0, 0]</td>\n",
       "    </tr>\n",
       "    <tr>\n",
       "      <th>1079</th>\n",
       "      <td>Tenho o seguinte jQuery:  CODE   Nisto, quanti...</td>\n",
       "      <td>(0, 1, 0, 0)</td>\n",
       "      <td>[0, 1, 0, 0]</td>\n",
       "      <td>[0.0, 1.0, 0.0, 0.0]</td>\n",
       "      <td>[0, 1, 0, 0]</td>\n",
       "    </tr>\n",
       "    <tr>\n",
       "      <th>1080</th>\n",
       "      <td>Estou usando o SimpleModal Contact Form de Eri...</td>\n",
       "      <td>(0, 1, 0, 0)</td>\n",
       "      <td>[0, 1, 0, 0]</td>\n",
       "      <td>[0.0, 1.0, 0.0, 0.0]</td>\n",
       "      <td>[0, 1, 0, 0]</td>\n",
       "    </tr>\n",
       "    <tr>\n",
       "      <th>1081</th>\n",
       "      <td>Estou tento problemas com o webpack, gostaria ...</td>\n",
       "      <td>(0, 0, 0, 1)</td>\n",
       "      <td>[0, 0, 0, 0]</td>\n",
       "      <td>[0.0, 0.0, 1.0, 0.0]</td>\n",
       "      <td>[0, 0, 1, 0]</td>\n",
       "    </tr>\n",
       "  </tbody>\n",
       "</table>\n",
       "<p>1082 rows × 5 columns</p>\n",
       "</div>"
      ],
      "text/plain": [
       "                                              perguntas     tags_real            BR                cadeia         mlknn\n",
       "0     estou com conflito entre o  CODE   e os  CODE ...  (0, 1, 0, 0)  [0, 1, 0, 0]  [0.0, 1.0, 0.0, 0.0]  [0, 0, 0, 0]\n",
       "1     Estou fazendo um site que eu sou obrigado a us...  (0, 0, 1, 0)  [0, 0, 1, 0]  [0.0, 0.0, 1.0, 0.0]  [0, 1, 1, 0]\n",
       "2     Recentemente fiz um refactor do meu código par...  (1, 0, 0, 0)  [1, 0, 0, 0]  [1.0, 0.0, 0.0, 0.0]  [1, 0, 0, 0]\n",
       "3     Eu tenho esse código em CODE  que passo valore...  (0, 1, 1, 0)  [0, 1, 0, 0]  [0.0, 1.0, 0.0, 0.0]  [0, 1, 1, 0]\n",
       "4     Olá, em minha função tem o evento CODE  que de...  (0, 1, 1, 0)  [0, 1, 0, 0]  [0.0, 1.0, 0.0, 0.0]  [0, 1, 1, 0]\n",
       "...                                                 ...           ...           ...                   ...           ...\n",
       "1077  Estou a desenvolver um website em jQuery. E at...  (0, 1, 0, 0)  [0, 1, 1, 0]  [0.0, 1.0, 1.0, 0.0]  [0, 0, 1, 0]\n",
       "1078  Estou usando este plugin - jquery autocomplete...  (0, 1, 0, 0)  [0, 1, 0, 0]  [0.0, 1.0, 0.0, 0.0]  [0, 1, 0, 0]\n",
       "1079  Tenho o seguinte jQuery:  CODE   Nisto, quanti...  (0, 1, 0, 0)  [0, 1, 0, 0]  [0.0, 1.0, 0.0, 0.0]  [0, 1, 0, 0]\n",
       "1080  Estou usando o SimpleModal Contact Form de Eri...  (0, 1, 0, 0)  [0, 1, 0, 0]  [0.0, 1.0, 0.0, 0.0]  [0, 1, 0, 0]\n",
       "1081  Estou tento problemas com o webpack, gostaria ...  (0, 0, 0, 1)  [0, 0, 0, 0]  [0.0, 0.0, 1.0, 0.0]  [0, 0, 1, 0]\n",
       "\n",
       "[1082 rows x 5 columns]"
      ]
     },
     "execution_count": 40,
     "metadata": {},
     "output_type": "execute_result"
    }
   ],
   "source": [
    "resultado_classificacao = pd.DataFrame()\n",
    "resultado_classificacao['perguntas'] = perguntas_test.values\n",
    "resultado_classificacao['tags_real'] = list(tags_teste)\n",
    "resultado_classificacao['BR'] = list(previsao_br.toarray())\n",
    "resultado_classificacao['cadeia'] = list(previsao_cadeia.toarray())\n",
    "resultado_classificacao['mlknn'] = list(previsao_mlknn.toarray())\n",
    "resultado_classificacao"
   ]
  },
  {
   "cell_type": "code",
   "execution_count": 41,
   "metadata": {
    "colab": {
     "base_uri": "https://localhost:8080/"
    },
    "id": "nWRm8A-onPF_",
    "outputId": "93eab381-6fca-477f-e1d1-c550696029e6"
   },
   "outputs": [
    {
     "data": {
      "text/plain": [
       "perguntas    Estou fazendo um site que eu sou obrigado a us...\n",
       "tags_real                                         (0, 0, 1, 0)\n",
       "BR                                                [0, 0, 1, 0]\n",
       "cadeia                                    [0.0, 0.0, 1.0, 0.0]\n",
       "mlknn                                             [0, 1, 1, 0]\n",
       "Name: 1, dtype: object"
      ]
     },
     "execution_count": 41,
     "metadata": {},
     "output_type": "execute_result"
    }
   ],
   "source": [
    "resultado_classificacao.iloc[1]"
   ]
  },
  {
   "cell_type": "code",
   "execution_count": 42,
   "metadata": {
    "colab": {
     "base_uri": "https://localhost:8080/",
     "height": 137
    },
    "id": "hqPvIqvcn9UQ",
    "outputId": "6ef38c9a-a8ac-47cd-fcb7-28d88f89d6c1"
   },
   "outputs": [
    {
     "data": {
      "text/plain": [
       "'Estou fazendo um site que eu sou obrigado a usar HTML, CSS e JavaScript no máximo. Só que muitas coisas que eu preciso do PhP eu não posso usar. Sendo assim eu estive pesquisando por sinonimo de CODE  e encontrei o seguinte, que ajudou em partes:  CODE   Tá, mas qual é o problema? Ele cria uma barra de rolagem do lado. Eu sei como remover com CSS, mas o texto que foi inserido rola só dentro da área da CODE  e eu queria que fizesse como se o texto inserido fizesse parte da página, como funciona no CODE  do PhP. A questão é, como fazer a mecânica do JavaScript nesse caso ficar igual ao do PhP?  Print para exemplificar: https://imgur.com/a/V9AGLgB '"
      ]
     },
     "execution_count": 42,
     "metadata": {},
     "output_type": "execute_result"
    }
   ],
   "source": [
    "resultado_classificacao.perguntas[1]"
   ]
  }
 ],
 "metadata": {
  "colab": {
   "collapsed_sections": [],
   "name": "Aula_5.ipynb",
   "provenance": []
  },
  "kernelspec": {
   "display_name": "Python 3",
   "language": "python",
   "name": "python3"
  },
  "language_info": {
   "codemirror_mode": {
    "name": "ipython",
    "version": 3
   },
   "file_extension": ".py",
   "mimetype": "text/x-python",
   "name": "python",
   "nbconvert_exporter": "python",
   "pygments_lexer": "ipython3",
   "version": "3.9.0"
  }
 },
 "nbformat": 4,
 "nbformat_minor": 1
}
